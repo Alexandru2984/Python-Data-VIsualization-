{
 "cells": [
  {
   "cell_type": "code",
   "execution_count": 2,
   "metadata": {},
   "outputs": [],
   "source": [
    "import requests\n",
    "import json\n",
    "import csv"
   ]
  },
  {
   "cell_type": "code",
   "execution_count": 3,
   "metadata": {},
   "outputs": [],
   "source": [
    "BASE_URL = \"https://dummyjson.com/\"\n",
    "URL_CATEGORIES = BASE_URL + \"products/categories\""
   ]
  },
  {
   "cell_type": "code",
   "execution_count": 4,
   "metadata": {},
   "outputs": [],
   "source": [
    "response = requests.get(URL_CATEGORIES)"
   ]
  },
  {
   "cell_type": "code",
   "execution_count": 5,
   "metadata": {},
   "outputs": [
    {
     "data": {
      "text/plain": [
       "200"
      ]
     },
     "execution_count": 5,
     "metadata": {},
     "output_type": "execute_result"
    }
   ],
   "source": [
    "response.status_code"
   ]
  },
  {
   "cell_type": "code",
   "execution_count": 6,
   "metadata": {},
   "outputs": [
    {
     "data": {
      "text/plain": [
       "b'[{\"slug\":\"beauty\",\"name\":\"Beauty\",\"url\":\"https://dummyjson.com/products/category/beauty\"},{\"slug\":\"fragrances\",\"name\":\"Fragrances\",\"url\":\"https://dummyjson.com/products/category/fragrances\"},{\"slug\":\"furniture\",\"name\":\"Furniture\",\"url\":\"https://dummyjson.com/products/category/furniture\"},{\"slug\":\"groceries\",\"name\":\"Groceries\",\"url\":\"https://dummyjson.com/products/category/groceries\"},{\"slug\":\"home-decoration\",\"name\":\"Home Decoration\",\"url\":\"https://dummyjson.com/products/category/home-decoration\"},{\"slug\":\"kitchen-accessories\",\"name\":\"Kitchen Accessories\",\"url\":\"https://dummyjson.com/products/category/kitchen-accessories\"},{\"slug\":\"laptops\",\"name\":\"Laptops\",\"url\":\"https://dummyjson.com/products/category/laptops\"},{\"slug\":\"mens-shirts\",\"name\":\"Mens Shirts\",\"url\":\"https://dummyjson.com/products/category/mens-shirts\"},{\"slug\":\"mens-shoes\",\"name\":\"Mens Shoes\",\"url\":\"https://dummyjson.com/products/category/mens-shoes\"},{\"slug\":\"mens-watches\",\"name\":\"Mens Watches\",\"url\":\"https://dummyjson.com/products/category/mens-watches\"},{\"slug\":\"mobile-accessories\",\"name\":\"Mobile Accessories\",\"url\":\"https://dummyjson.com/products/category/mobile-accessories\"},{\"slug\":\"motorcycle\",\"name\":\"Motorcycle\",\"url\":\"https://dummyjson.com/products/category/motorcycle\"},{\"slug\":\"skin-care\",\"name\":\"Skin Care\",\"url\":\"https://dummyjson.com/products/category/skin-care\"},{\"slug\":\"smartphones\",\"name\":\"Smartphones\",\"url\":\"https://dummyjson.com/products/category/smartphones\"},{\"slug\":\"sports-accessories\",\"name\":\"Sports Accessories\",\"url\":\"https://dummyjson.com/products/category/sports-accessories\"},{\"slug\":\"sunglasses\",\"name\":\"Sunglasses\",\"url\":\"https://dummyjson.com/products/category/sunglasses\"},{\"slug\":\"tablets\",\"name\":\"Tablets\",\"url\":\"https://dummyjson.com/products/category/tablets\"},{\"slug\":\"tops\",\"name\":\"Tops\",\"url\":\"https://dummyjson.com/products/category/tops\"},{\"slug\":\"vehicle\",\"name\":\"Vehicle\",\"url\":\"https://dummyjson.com/products/category/vehicle\"},{\"slug\":\"womens-bags\",\"name\":\"Womens Bags\",\"url\":\"https://dummyjson.com/products/category/womens-bags\"},{\"slug\":\"womens-dresses\",\"name\":\"Womens Dresses\",\"url\":\"https://dummyjson.com/products/category/womens-dresses\"},{\"slug\":\"womens-jewellery\",\"name\":\"Womens Jewellery\",\"url\":\"https://dummyjson.com/products/category/womens-jewellery\"},{\"slug\":\"womens-shoes\",\"name\":\"Womens Shoes\",\"url\":\"https://dummyjson.com/products/category/womens-shoes\"},{\"slug\":\"womens-watches\",\"name\":\"Womens Watches\",\"url\":\"https://dummyjson.com/products/category/womens-watches\"}]'"
      ]
     },
     "execution_count": 6,
     "metadata": {},
     "output_type": "execute_result"
    }
   ],
   "source": [
    "response.content"
   ]
  },
  {
   "cell_type": "code",
   "execution_count": 7,
   "metadata": {},
   "outputs": [
    {
     "data": {
      "text/plain": [
       "[{'slug': 'beauty',\n",
       "  'name': 'Beauty',\n",
       "  'url': 'https://dummyjson.com/products/category/beauty'},\n",
       " {'slug': 'fragrances',\n",
       "  'name': 'Fragrances',\n",
       "  'url': 'https://dummyjson.com/products/category/fragrances'},\n",
       " {'slug': 'furniture',\n",
       "  'name': 'Furniture',\n",
       "  'url': 'https://dummyjson.com/products/category/furniture'},\n",
       " {'slug': 'groceries',\n",
       "  'name': 'Groceries',\n",
       "  'url': 'https://dummyjson.com/products/category/groceries'},\n",
       " {'slug': 'home-decoration',\n",
       "  'name': 'Home Decoration',\n",
       "  'url': 'https://dummyjson.com/products/category/home-decoration'},\n",
       " {'slug': 'kitchen-accessories',\n",
       "  'name': 'Kitchen Accessories',\n",
       "  'url': 'https://dummyjson.com/products/category/kitchen-accessories'},\n",
       " {'slug': 'laptops',\n",
       "  'name': 'Laptops',\n",
       "  'url': 'https://dummyjson.com/products/category/laptops'},\n",
       " {'slug': 'mens-shirts',\n",
       "  'name': 'Mens Shirts',\n",
       "  'url': 'https://dummyjson.com/products/category/mens-shirts'},\n",
       " {'slug': 'mens-shoes',\n",
       "  'name': 'Mens Shoes',\n",
       "  'url': 'https://dummyjson.com/products/category/mens-shoes'},\n",
       " {'slug': 'mens-watches',\n",
       "  'name': 'Mens Watches',\n",
       "  'url': 'https://dummyjson.com/products/category/mens-watches'},\n",
       " {'slug': 'mobile-accessories',\n",
       "  'name': 'Mobile Accessories',\n",
       "  'url': 'https://dummyjson.com/products/category/mobile-accessories'},\n",
       " {'slug': 'motorcycle',\n",
       "  'name': 'Motorcycle',\n",
       "  'url': 'https://dummyjson.com/products/category/motorcycle'},\n",
       " {'slug': 'skin-care',\n",
       "  'name': 'Skin Care',\n",
       "  'url': 'https://dummyjson.com/products/category/skin-care'},\n",
       " {'slug': 'smartphones',\n",
       "  'name': 'Smartphones',\n",
       "  'url': 'https://dummyjson.com/products/category/smartphones'},\n",
       " {'slug': 'sports-accessories',\n",
       "  'name': 'Sports Accessories',\n",
       "  'url': 'https://dummyjson.com/products/category/sports-accessories'},\n",
       " {'slug': 'sunglasses',\n",
       "  'name': 'Sunglasses',\n",
       "  'url': 'https://dummyjson.com/products/category/sunglasses'},\n",
       " {'slug': 'tablets',\n",
       "  'name': 'Tablets',\n",
       "  'url': 'https://dummyjson.com/products/category/tablets'},\n",
       " {'slug': 'tops',\n",
       "  'name': 'Tops',\n",
       "  'url': 'https://dummyjson.com/products/category/tops'},\n",
       " {'slug': 'vehicle',\n",
       "  'name': 'Vehicle',\n",
       "  'url': 'https://dummyjson.com/products/category/vehicle'},\n",
       " {'slug': 'womens-bags',\n",
       "  'name': 'Womens Bags',\n",
       "  'url': 'https://dummyjson.com/products/category/womens-bags'},\n",
       " {'slug': 'womens-dresses',\n",
       "  'name': 'Womens Dresses',\n",
       "  'url': 'https://dummyjson.com/products/category/womens-dresses'},\n",
       " {'slug': 'womens-jewellery',\n",
       "  'name': 'Womens Jewellery',\n",
       "  'url': 'https://dummyjson.com/products/category/womens-jewellery'},\n",
       " {'slug': 'womens-shoes',\n",
       "  'name': 'Womens Shoes',\n",
       "  'url': 'https://dummyjson.com/products/category/womens-shoes'},\n",
       " {'slug': 'womens-watches',\n",
       "  'name': 'Womens Watches',\n",
       "  'url': 'https://dummyjson.com/products/category/womens-watches'}]"
      ]
     },
     "execution_count": 7,
     "metadata": {},
     "output_type": "execute_result"
    }
   ],
   "source": [
    "response.json()"
   ]
  },
  {
   "cell_type": "code",
   "execution_count": null,
   "metadata": {},
   "outputs": [],
   "source": []
  }
 ],
 "metadata": {
  "kernelspec": {
   "display_name": "Python 3",
   "language": "python",
   "name": "python3"
  },
  "language_info": {
   "codemirror_mode": {
    "name": "ipython",
    "version": 3
   },
   "file_extension": ".py",
   "mimetype": "text/x-python",
   "name": "python",
   "nbconvert_exporter": "python",
   "pygments_lexer": "ipython3",
   "version": "3.11.9"
  }
 },
 "nbformat": 4,
 "nbformat_minor": 2
}
