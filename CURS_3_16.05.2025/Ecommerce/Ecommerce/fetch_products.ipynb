{
 "cells": [
  {
   "cell_type": "code",
   "execution_count": 7,
   "metadata": {},
   "outputs": [],
   "source": [
    "import requests\n",
    "import json"
   ]
  },
  {
   "cell_type": "code",
   "execution_count": null,
   "metadata": {},
   "outputs": [],
   "source": []
  },
  {
   "cell_type": "code",
   "execution_count": null,
   "metadata": {},
   "outputs": [],
   "source": []
  },
  {
   "cell_type": "code",
   "execution_count": 12,
   "metadata": {},
   "outputs": [],
   "source": [
    "URL = \"https://dummyjson.com/products\"\n",
    "LIMIT = 1\n",
    "response = requests.get(URL, params={\"limit\":LIMIT})"
   ]
  },
  {
   "cell_type": "code",
   "execution_count": 13,
   "metadata": {},
   "outputs": [
    {
     "data": {
      "text/plain": [
       "'{\"products\":[{\"id\":1,\"title\":\"Essence Mascara Lash Princess\",\"description\":\"The Essence Mascara Lash Princess is a popular mascara known for its volumizing and lengthening effects. Achieve dramatic lashes with this long-lasting and cruelty-free formula.\",\"category\":\"beauty\",\"price\":9.99,\"discountPercentage\":10.48,\"rating\":2.56,\"stock\":99,\"tags\":[\"beauty\",\"mascara\"],\"brand\":\"Essence\",\"sku\":\"BEA-ESS-ESS-001\",\"weight\":4,\"dimensions\":{\"width\":15.14,\"height\":13.08,\"depth\":22.99},\"warrantyInformation\":\"1 week warranty\",\"shippingInformation\":\"Ships in 3-5 business days\",\"availabilityStatus\":\"In Stock\",\"reviews\":[{\"rating\":3,\"comment\":\"Would not recommend!\",\"date\":\"2025-04-30T09:41:02.053Z\",\"reviewerName\":\"Eleanor Collins\",\"reviewerEmail\":\"eleanor.collins@x.dummyjson.com\"},{\"rating\":4,\"comment\":\"Very satisfied!\",\"date\":\"2025-04-30T09:41:02.053Z\",\"reviewerName\":\"Lucas Gordon\",\"reviewerEmail\":\"lucas.gordon@x.dummyjson.com\"},{\"rating\":5,\"comment\":\"Highly impressed!\",\"date\":\"2025-04-30T09:41:02.053Z\",\"reviewerName\":\"Eleanor Collins\",\"reviewerEmail\":\"eleanor.collins@x.dummyjson.com\"}],\"returnPolicy\":\"No return policy\",\"minimumOrderQuantity\":48,\"meta\":{\"createdAt\":\"2025-04-30T09:41:02.053Z\",\"updatedAt\":\"2025-04-30T09:41:02.053Z\",\"barcode\":\"5784719087687\",\"qrCode\":\"https://cdn.dummyjson.com/public/qr-code.png\"},\"images\":[\"https://cdn.dummyjson.com/product-images/beauty/essence-mascara-lash-princess/1.webp\"],\"thumbnail\":\"https://cdn.dummyjson.com/product-images/beauty/essence-mascara-lash-princess/thumbnail.webp\"}],\"total\":194,\"skip\":0,\"limit\":1}'"
      ]
     },
     "execution_count": 13,
     "metadata": {},
     "output_type": "execute_result"
    }
   ],
   "source": [
    "response.text"
   ]
  },
  {
   "cell_type": "code",
   "execution_count": 14,
   "metadata": {},
   "outputs": [
    {
     "data": {
      "text/plain": [
       "{'products': [{'id': 1,\n",
       "   'title': 'Essence Mascara Lash Princess',\n",
       "   'description': 'The Essence Mascara Lash Princess is a popular mascara known for its volumizing and lengthening effects. Achieve dramatic lashes with this long-lasting and cruelty-free formula.',\n",
       "   'category': 'beauty',\n",
       "   'price': 9.99,\n",
       "   'discountPercentage': 10.48,\n",
       "   'rating': 2.56,\n",
       "   'stock': 99,\n",
       "   'tags': ['beauty', 'mascara'],\n",
       "   'brand': 'Essence',\n",
       "   'sku': 'BEA-ESS-ESS-001',\n",
       "   'weight': 4,\n",
       "   'dimensions': {'width': 15.14, 'height': 13.08, 'depth': 22.99},\n",
       "   'warrantyInformation': '1 week warranty',\n",
       "   'shippingInformation': 'Ships in 3-5 business days',\n",
       "   'availabilityStatus': 'In Stock',\n",
       "   'reviews': [{'rating': 3,\n",
       "     'comment': 'Would not recommend!',\n",
       "     'date': '2025-04-30T09:41:02.053Z',\n",
       "     'reviewerName': 'Eleanor Collins',\n",
       "     'reviewerEmail': 'eleanor.collins@x.dummyjson.com'},\n",
       "    {'rating': 4,\n",
       "     'comment': 'Very satisfied!',\n",
       "     'date': '2025-04-30T09:41:02.053Z',\n",
       "     'reviewerName': 'Lucas Gordon',\n",
       "     'reviewerEmail': 'lucas.gordon@x.dummyjson.com'},\n",
       "    {'rating': 5,\n",
       "     'comment': 'Highly impressed!',\n",
       "     'date': '2025-04-30T09:41:02.053Z',\n",
       "     'reviewerName': 'Eleanor Collins',\n",
       "     'reviewerEmail': 'eleanor.collins@x.dummyjson.com'}],\n",
       "   'returnPolicy': 'No return policy',\n",
       "   'minimumOrderQuantity': 48,\n",
       "   'meta': {'createdAt': '2025-04-30T09:41:02.053Z',\n",
       "    'updatedAt': '2025-04-30T09:41:02.053Z',\n",
       "    'barcode': '5784719087687',\n",
       "    'qrCode': 'https://cdn.dummyjson.com/public/qr-code.png'},\n",
       "   'images': ['https://cdn.dummyjson.com/product-images/beauty/essence-mascara-lash-princess/1.webp'],\n",
       "   'thumbnail': 'https://cdn.dummyjson.com/product-images/beauty/essence-mascara-lash-princess/thumbnail.webp'}],\n",
       " 'total': 194,\n",
       " 'skip': 0,\n",
       " 'limit': 1}"
      ]
     },
     "execution_count": 14,
     "metadata": {},
     "output_type": "execute_result"
    }
   ],
   "source": [
    "response.json()"
   ]
  },
  {
   "cell_type": "code",
   "execution_count": null,
   "metadata": {},
   "outputs": [],
   "source": []
  }
 ],
 "metadata": {
  "kernelspec": {
   "display_name": "Python 3",
   "language": "python",
   "name": "python3"
  },
  "language_info": {
   "codemirror_mode": {
    "name": "ipython",
    "version": 3
   },
   "file_extension": ".py",
   "mimetype": "text/x-python",
   "name": "python",
   "nbconvert_exporter": "python",
   "pygments_lexer": "ipython3",
   "version": "3.11.9"
  }
 },
 "nbformat": 4,
 "nbformat_minor": 2
}
